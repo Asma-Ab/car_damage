{
 "cells": [
  {
   "cell_type": "code",
   "execution_count": 1,
   "metadata": {},
   "outputs": [],
   "source": [
    "import pandas as pd\n",
    "import os\n",
    "import tensorflow as tf\n",
    "from tensorflow.keras.models import Sequential\n",
    "from tensorflow.keras.layers import Flatten, Dense, Dropout\n",
    "from tensorflow.keras.preprocessing.image import ImageDataGenerator\n",
    "from tensorflow.keras.applications import VGG16  # Change to VGG16\n",
    "from sklearn.model_selection import train_test_split"
   ]
  },
  {
   "cell_type": "code",
   "execution_count": 2,
   "metadata": {},
   "outputs": [],
   "source": [
    "# Set your original image dimensions\n",
    "original_img_width, original_img_height = 1024, 1024\n",
    "# Set the desired resized image dimensions\n",
    "img_width, img_height = 224, 224\n",
    "\n",
    "# Set the batch size and number of epochs\n",
    "batch_size = 32\n",
    "epochs = 30"
   ]
  },
  {
   "cell_type": "code",
   "execution_count": 3,
   "metadata": {},
   "outputs": [],
   "source": [
    "\n",
    "# Set the path to your CSV file\n",
    "csv_path = \"C:/Users/abida/Desktop/car_damage/datasets/Ai_Or_Not/fake_real_dataset.csv\"\n",
    "\n",
    "# Load the CSV file into a Pandas DataFrame\n",
    "df = pd.read_csv(csv_path)\n",
    "\n",
    "# Split the data into train, validation, and test sets\n",
    "train_df, test_df = train_test_split(df, test_size=0.2, random_state=42)\n",
    "train_df, val_df = train_test_split(train_df, test_size=0.1, random_state=42)"
   ]
  },
  {
   "cell_type": "code",
   "execution_count": 4,
   "metadata": {},
   "outputs": [
    {
     "name": "stdout",
     "output_type": "stream",
     "text": [
      "Found 1750 validated image filenames belonging to 2 classes.\n",
      "Found 48 validated image filenames belonging to 2 classes.\n",
      "Found 608 validated image filenames belonging to 2 classes.\n"
     ]
    }
   ],
   "source": [
    "\n",
    "# Create a data generator with data augmentation and resizing\n",
    "datagen = ImageDataGenerator(\n",
    "    rescale=1./255,\n",
    "    shear_range=0.2,\n",
    "    zoom_range=0.2,\n",
    "    horizontal_flip=True,\n",
    "    validation_split=0.2,\n",
    "    preprocessing_function=lambda x: tf.image.resize(x, (img_width, img_height))\n",
    ")\n",
    "\n",
    "# Create a data generator for the training set\n",
    "train_generator = datagen.flow_from_dataframe(\n",
    "    train_df,\n",
    "    directory=None,\n",
    "    x_col='path',\n",
    "    y_col='label',\n",
    "    target_size=(img_width, img_height),\n",
    "    batch_size=batch_size,\n",
    "    class_mode='binary',\n",
    "    subset='training'\n",
    ")\n",
    "\n",
    "# Create a data generator for the validation set\n",
    "validation_generator = datagen.flow_from_dataframe(\n",
    "    val_df,\n",
    "    directory=None,\n",
    "    x_col='path',\n",
    "    y_col='label',\n",
    "    target_size=(img_width, img_height),\n",
    "    batch_size=batch_size,\n",
    "    class_mode='binary',\n",
    "    subset='validation'\n",
    ")\n",
    "\n",
    "# Create a data generator for the test set\n",
    "test_generator = datagen.flow_from_dataframe(\n",
    "    test_df,\n",
    "    directory=None,\n",
    "    x_col='path',\n",
    "    y_col='label',\n",
    "    target_size=(img_width, img_height),\n",
    "    batch_size=batch_size,\n",
    "    class_mode='binary',\n",
    "    shuffle=False\n",
    ")"
   ]
  },
  {
   "cell_type": "code",
   "execution_count": 5,
   "metadata": {},
   "outputs": [
    {
     "name": "stdout",
     "output_type": "stream",
     "text": [
      "Model: \"sequential\"\n",
      "_________________________________________________________________\n",
      " Layer (type)                Output Shape              Param #   \n",
      "=================================================================\n",
      " vgg16 (Functional)          (None, 7, 7, 512)         14714688  \n",
      "                                                                 \n",
      " flatten (Flatten)           (None, 25088)             0         \n",
      "                                                                 \n",
      " dense (Dense)               (None, 128)               3211392   \n",
      "                                                                 \n",
      " dropout (Dropout)           (None, 128)               0         \n",
      "                                                                 \n",
      " dense_1 (Dense)             (None, 1)                 129       \n",
      "                                                                 \n",
      "=================================================================\n",
      "Total params: 17926209 (68.38 MB)\n",
      "Trainable params: 17926209 (68.38 MB)\n",
      "Non-trainable params: 0 (0.00 Byte)\n",
      "_________________________________________________________________\n"
     ]
    }
   ],
   "source": [
    "# Build the model\n",
    "model = Sequential()\n",
    "\n",
    "# Add a pre-trained CNN (e.g., InceptionV3) as a feature extractor\n",
    "base_model = VGG16(input_shape=(img_width, img_height, 3),\n",
    "                         include_top=False,\n",
    "                         weights='imagenet')  # Change to InceptionV3\n",
    "\n",
    "#base_model.trainable = False\n",
    "\n",
    "model.add(base_model)\n",
    "model.add(Flatten())\n",
    "model.add(Dense(128, activation='relu'))\n",
    "model.add(Dropout(0.5))\n",
    "model.add(Dense(1, activation='sigmoid'))\n",
    "model.summary()"
   ]
  },
  {
   "cell_type": "code",
   "execution_count": 6,
   "metadata": {},
   "outputs": [
    {
     "name": "stdout",
     "output_type": "stream",
     "text": [
      "Epoch 1/30\n",
      "54/54 [==============================] - 2736s 51s/step - loss: 1.1705 - accuracy: 0.5425 - val_loss: 0.6929 - val_accuracy: 0.4688\n",
      "Epoch 2/30\n",
      "54/54 [==============================] - 2004s 36s/step - loss: 0.6575 - accuracy: 0.5978 - val_loss: 0.7659 - val_accuracy: 0.5625\n",
      "Epoch 3/30\n",
      "54/54 [==============================] - 1831s 34s/step - loss: 0.5143 - accuracy: 0.7439 - val_loss: 0.5608 - val_accuracy: 0.8125\n",
      "Epoch 4/30\n",
      "54/54 [==============================] - 2037s 38s/step - loss: 0.4754 - accuracy: 0.7875 - val_loss: 0.2790 - val_accuracy: 0.9375\n",
      "Epoch 5/30\n",
      "54/54 [==============================] - 2358s 44s/step - loss: 0.4453 - accuracy: 0.7899 - val_loss: 0.4153 - val_accuracy: 0.9062\n",
      "Epoch 6/30\n",
      "54/54 [==============================] - 2457s 45s/step - loss: 0.3966 - accuracy: 0.8295 - val_loss: 0.4536 - val_accuracy: 0.8750\n",
      "Epoch 7/30\n",
      "54/54 [==============================] - 2065s 38s/step - loss: 0.3033 - accuracy: 0.8749 - val_loss: 0.4905 - val_accuracy: 0.8750\n",
      "Epoch 8/30\n",
      "54/54 [==============================] - 2009s 37s/step - loss: 0.3666 - accuracy: 0.8271 - val_loss: 0.4980 - val_accuracy: 0.8125\n",
      "Epoch 9/30\n",
      "54/54 [==============================] - 2016s 37s/step - loss: 0.3476 - accuracy: 0.8574 - val_loss: 1.1498 - val_accuracy: 0.7812\n",
      "Epoch 10/30\n",
      "54/54 [==============================] - 2250s 42s/step - loss: 0.2658 - accuracy: 0.8981 - val_loss: 0.7403 - val_accuracy: 0.7812\n",
      "Epoch 11/30\n",
      "54/54 [==============================] - 2097s 39s/step - loss: 0.2659 - accuracy: 0.8964 - val_loss: 0.4412 - val_accuracy: 0.7500\n",
      "Epoch 12/30\n",
      "54/54 [==============================] - 1988s 37s/step - loss: 0.3176 - accuracy: 0.8690 - val_loss: 0.3697 - val_accuracy: 0.9375\n",
      "Epoch 13/30\n",
      "54/54 [==============================] - 1929s 36s/step - loss: 0.2130 - accuracy: 0.9220 - val_loss: 0.0790 - val_accuracy: 0.9688\n",
      "Epoch 14/30\n",
      "54/54 [==============================] - 2016s 37s/step - loss: 0.2819 - accuracy: 0.8894 - val_loss: 0.6725 - val_accuracy: 0.9688\n",
      "Epoch 15/30\n",
      "54/54 [==============================] - 1848s 34s/step - loss: 0.1747 - accuracy: 0.9395 - val_loss: 0.1180 - val_accuracy: 0.9688\n",
      "Epoch 16/30\n",
      "54/54 [==============================] - 1813s 34s/step - loss: 0.4068 - accuracy: 0.8900 - val_loss: 0.6658 - val_accuracy: 0.5625\n",
      "Epoch 17/30\n",
      "54/54 [==============================] - 1832s 34s/step - loss: 0.4540 - accuracy: 0.7974 - val_loss: 0.2666 - val_accuracy: 0.8750\n",
      "Epoch 18/30\n",
      "54/54 [==============================] - 1805s 33s/step - loss: 0.3300 - accuracy: 0.8690 - val_loss: 0.2173 - val_accuracy: 0.8750\n",
      "Epoch 19/30\n",
      "54/54 [==============================] - 1833s 34s/step - loss: 0.2586 - accuracy: 0.8970 - val_loss: 0.2526 - val_accuracy: 0.8750\n",
      "Epoch 20/30\n",
      "54/54 [==============================] - 1766s 33s/step - loss: 0.1828 - accuracy: 0.9319 - val_loss: 0.0684 - val_accuracy: 1.0000\n",
      "Epoch 21/30\n",
      "54/54 [==============================] - 1842s 34s/step - loss: 0.1962 - accuracy: 0.9336 - val_loss: 0.0873 - val_accuracy: 1.0000\n",
      "Epoch 22/30\n",
      "54/54 [==============================] - 2147s 40s/step - loss: 0.1260 - accuracy: 0.9581 - val_loss: 0.7748 - val_accuracy: 0.8750\n",
      "Epoch 23/30\n",
      "54/54 [==============================] - 1781s 33s/step - loss: 0.5594 - accuracy: 0.7474 - val_loss: 0.6046 - val_accuracy: 0.6875\n",
      "Epoch 24/30\n",
      "54/54 [==============================] - 1750s 32s/step - loss: 0.3601 - accuracy: 0.8481 - val_loss: 0.2574 - val_accuracy: 0.8750\n",
      "Epoch 25/30\n",
      "54/54 [==============================] - 1756s 32s/step - loss: 0.1945 - accuracy: 0.9296 - val_loss: 0.5590 - val_accuracy: 0.9062\n",
      "Epoch 26/30\n",
      "54/54 [==============================] - 1751s 32s/step - loss: 0.1930 - accuracy: 0.9214 - val_loss: 0.3069 - val_accuracy: 0.8750\n",
      "Epoch 27/30\n",
      "54/54 [==============================] - 1758s 33s/step - loss: 0.2413 - accuracy: 0.8981 - val_loss: 0.3885 - val_accuracy: 0.9062\n",
      "Epoch 28/30\n",
      "54/54 [==============================] - 1752s 32s/step - loss: 0.1897 - accuracy: 0.9302 - val_loss: 0.1547 - val_accuracy: 0.9375\n",
      "Epoch 29/30\n",
      "54/54 [==============================] - 1759s 33s/step - loss: 0.1658 - accuracy: 0.9348 - val_loss: 0.0987 - val_accuracy: 0.9688\n",
      "Epoch 30/30\n",
      "54/54 [==============================] - 1967s 36s/step - loss: 0.1759 - accuracy: 0.9377 - val_loss: 1.4196 - val_accuracy: 0.8125\n"
     ]
    }
   ],
   "source": [
    "# Compile the model\n",
    "model.compile(optimizer='adam', loss='binary_crossentropy', metrics=['accuracy'])\n",
    "\n",
    "# Train the model\n",
    "history=model.fit(\n",
    "    train_generator,\n",
    "    steps_per_epoch=train_generator.samples // batch_size,\n",
    "    epochs=epochs,\n",
    "    validation_data=validation_generator,\n",
    "    validation_steps=validation_generator.samples // batch_size\n",
    ")"
   ]
  },
  {
   "cell_type": "code",
   "execution_count": 8,
   "metadata": {},
   "outputs": [
    {
     "name": "stdout",
     "output_type": "stream",
     "text": [
      "19/19 [==============================] - 236s 12s/step\n",
      "Predicted Labels\n"
     ]
    }
   ],
   "source": [
    "y_pred_probs = model.predict(test_generator)\n",
    "threshold = 0.5  # You can adjust this threshold based on your preference\n",
    "\n",
    "y_pred_labels = (y_pred_probs > threshold).astype(int)\n",
    "\n",
    "# Display the predicted labels\n",
    "print(\"Predicted Labels\")"
   ]
  },
  {
   "cell_type": "code",
   "execution_count": 7,
   "metadata": {},
   "outputs": [
    {
     "name": "stdout",
     "output_type": "stream",
     "text": [
      "19/19 [==============================] - 224s 12s/step - loss: 0.3347 - accuracy: 0.8701\n",
      "Test Loss: 0.3347\n",
      "Test Accuracy: 87.01%\n"
     ]
    }
   ],
   "source": [
    "# Evaluate the model on the test set\n",
    "test_loss, test_accuracy = model.evaluate(test_generator, steps=test_generator.samples // batch_size)\n",
    "\n",
    "# Print the evaluation results\n",
    "print(f'Test Loss: {test_loss:.4f}')\n",
    "print(f'Test Accuracy: {test_accuracy * 100:.2f}%')"
   ]
  },
  {
   "cell_type": "code",
   "execution_count": 9,
   "metadata": {},
   "outputs": [
    {
     "data": {
      "image/png": "[encoded data removed]",
      "text/plain": [
       "<Figure size 400x400 with 2 Axes>"
      ]
     },
     "metadata": {},
     "output_type": "display_data"
    },
    {
     "name": "stdout",
     "output_type": "stream",
     "text": [
      "Classification Report:\n",
      "              precision    recall  f1-score   support\n",
      "\n",
      "           0       0.95      0.74      0.83       255\n",
      "           1       0.84      0.97      0.90       353\n",
      "\n",
      "    accuracy                           0.88       608\n",
      "   macro avg       0.89      0.86      0.87       608\n",
      "weighted avg       0.89      0.88      0.87       608\n",
      "\n"
     ]
    }
   ],
   "source": [
    "import matplotlib.pyplot as plt\n",
    "import numpy as np\n",
    "import seaborn as sn\n",
    "from sklearn.metrics import confusion_matrix, classification_report\n",
    "\n",
    "# Assuming y_test and y_pred_labels are your true and predicted labels\n",
    "y_test = test_generator.classes\n",
    "cm = confusion_matrix(y_test, y_pred_labels)\n",
    "cm_percentages = cm / cm.sum(axis=1)[:, np.newaxis]\n",
    "# Plot the confusion matrix\n",
    "plt.figure(figsize=(4, 4), facecolor='pink', edgecolor='brown')\n",
    "sn.heatmap(cm_percentages, annot=True, cmap=\"Blues\")\n",
    "\n",
    "plt.xlabel('Prediction', fontdict={'family': 'fantasy', 'color': 'black', 'size': 15})\n",
    "plt.ylabel('Truth', fontdict={'family': 'fantasy', 'color': 'black', 'size': 15})\n",
    "plt.title('Confusion Matrix', fontdict={'family': 'fantasy', 'color': 'red', 'size': 20})\n",
    "\n",
    "plt.show()\n",
    "\n",
    "# Display classification report\n",
    "print(\"Classification Report:\")\n",
    "print(classification_report(y_test, y_pred_labels))\n"
   ]
  },
  {
   "cell_type": "code",
   "execution_count": 10,
   "metadata": {},
   "outputs": [
    {
     "name": "stderr",
     "output_type": "stream",
     "text": [
      "c:\\Users\\abida\\AppData\\Local\\Programs\\Python\\Python38\\lib\\site-packages\\keras\\src\\engine\\training.py:3000: UserWarning: You are saving your model as an HDF5 file via `model.save()`. This file format is considered legacy. We recommend using instead the native Keras format, e.g. `model.save('my_model.keras')`.\n",
      "  saving_api.save_model(\n"
     ]
    }
   ],
   "source": [
    "# Save the model\n",
    "model.save('vgg16.h5') "
   ]
  }
 ],
 "metadata": {
  "kernelspec": {
   "display_name": "Python 3",
   "language": "python",
   "name": "python3"
  },
  "language_info": {
   "codemirror_mode": {
    "name": "ipython",
    "version": 3
   },
   "file_extension": ".py",
   "mimetype": "text/x-python",
   "name": "python",
   "nbconvert_exporter": "python",
   "pygments_lexer": "ipython3",
   "version": "3.8.0"
  }
 },
 "nbformat": 4,
 "nbformat_minor": 2
}
