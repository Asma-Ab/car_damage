{
 "cells": [
  {
   "cell_type": "code",
   "execution_count": 1,
   "metadata": {},
   "outputs": [
    {
     "name": "stdout",
     "output_type": "stream",
     "text": [
      "CSV files created successfully.\n"
     ]
    }
   ],
   "source": [
    "import os\n",
    "import csv\n",
    "\n",
    "# Path to the main dataset folder\n",
    "dataset_path = \"C:/Users/abida/Desktop/car_damage/datasets/Ai_Or_Not/\"\n",
    "\n",
    "# Output CSV file paths\n",
    "real_csv_path = \"C:/Users/abida/Desktop/car_damage/datasets/Ai_Or_Not/real_dataset.csv\"\n",
    "fake_csv_path = \"C:/Users/abida/Desktop/car_damage/datasets/Ai_Or_Not/fake_dataset.csv\"\n",
    "\n",
    "# Function to create CSV file\n",
    "def create_csv(csv_path, folder_path, label):\n",
    "    with open(csv_path, 'w', newline='') as csvfile:\n",
    "        fieldnames = ['path', 'label']\n",
    "        writer = csv.DictWriter(csvfile, fieldnames=fieldnames)\n",
    "        \n",
    "        # Write CSV header\n",
    "        writer.writeheader()\n",
    "\n",
    "        # Iterate through images in the folder\n",
    "        for filename in os.listdir(folder_path):\n",
    "            if filename.endswith(\".jpg\") or filename.endswith(\".png\"):\n",
    "                image_path = os.path.join(folder_path, filename)\n",
    "                \n",
    "                # Write image path and label to CSV\n",
    "                writer.writerow({'path': image_path, 'label': label})\n",
    "\n",
    "# Create CSV for \"real\" folder\n",
    "real_folder_path = os.path.join(dataset_path, 'real')\n",
    "create_csv(real_csv_path, real_folder_path, 'real')\n",
    "\n",
    "# Create CSV for \"fake\" folder\n",
    "fake_folder_path = os.path.join(dataset_path, 'fake')\n",
    "create_csv(fake_csv_path, fake_folder_path, 'fake')\n",
    "\n",
    "print(\"CSV files created successfully.\")\n"
   ]
  },
  {
   "cell_type": "code",
   "execution_count": 2,
   "metadata": {},
   "outputs": [
    {
     "name": "stdout",
     "output_type": "stream",
     "text": [
      "                                                   path label\n",
      "1613  C:/Users/abida/Desktop/car_damage/datasets/Ai_...  real\n",
      "1516  C:/Users/abida/Desktop/car_damage/datasets/Ai_...  real\n",
      "2737  C:/Users/abida/Desktop/car_damage/datasets/Ai_...  fake\n",
      "3015  C:/Users/abida/Desktop/car_damage/datasets/Ai_...  fake\n",
      "1737  C:/Users/abida/Desktop/car_damage/datasets/Ai_...  fake\n",
      "...                                                 ...   ...\n",
      "258   C:/Users/abida/Desktop/car_damage/datasets/Ai_...  real\n",
      "385   C:/Users/abida/Desktop/car_damage/datasets/Ai_...  real\n",
      "2391  C:/Users/abida/Desktop/car_damage/datasets/Ai_...  fake\n",
      "422   C:/Users/abida/Desktop/car_damage/datasets/Ai_...  real\n",
      "1098  C:/Users/abida/Desktop/car_damage/datasets/Ai_...  real\n",
      "\n",
      "[3038 rows x 2 columns]\n",
      "Dataframes concatenated successfully.\n"
     ]
    }
   ],
   "source": [
    "import pandas as pd\n",
    "from sklearn.utils import shuffle\n",
    "# Read the CSV files into dataframes\n",
    "real_df = pd.read_csv(real_csv_path)\n",
    "fake_df = pd.read_csv(fake_csv_path)\n",
    "\n",
    "# Concatenate the dataframes\n",
    "fake_real_df = pd.concat([real_df, fake_df], ignore_index=True)\n",
    "fake_real_df = shuffle(fake_real_df)\n",
    "# Print the concatenated dataframe\n",
    "print(fake_real_df)\n",
    "\n",
    "# Optionally, save the concatenated dataframe to a new CSV file\n",
    "fake_real_csv_path = \"C:/Users/abida/Desktop/car_damage/datasets/Ai_Or_Not/fake_real_dataset.csv\"\n",
    "fake_real_df.to_csv(fake_real_csv_path, index=False)\n",
    "\n",
    "print(\"Dataframes concatenated successfully.\")\n"
   ]
  }
 ],
 "metadata": {
  "kernelspec": {
   "display_name": "Python 3",
   "language": "python",
   "name": "python3"
  },
  "language_info": {
   "codemirror_mode": {
    "name": "ipython",
    "version": 3
   },
   "file_extension": ".py",
   "mimetype": "text/x-python",
   "name": "python",
   "nbconvert_exporter": "python",
   "pygments_lexer": "ipython3",
   "version": "3.8.0"
  }
 },
 "nbformat": 4,
 "nbformat_minor": 2
}
