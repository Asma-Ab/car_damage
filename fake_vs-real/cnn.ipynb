{
  "cells": [
    {
      "cell_type": "code",
      "execution_count": 1,
      "metadata": {
        "id": "JrGnl3Kj--Iq",
        "colab": {
          "base_uri": "https://localhost:8080/"
        },
        "outputId": "b4da1fa6-5dcd-491d-8007-ba22b320785b"
      },
      "outputs": [
        {
          "output_type": "stream",
          "name": "stdout",
          "text": [
            "Drive already mounted at /content/drive; to attempt to forcibly remount, call drive.mount(\"/content/drive\", force_remount=True).\n"
          ]
        }
      ],
      "source": [
        "from google.colab import drive\n",
        "drive.mount('/content/drive')"
      ]
    },
    {
      "cell_type": "code",
      "execution_count": 2,
      "metadata": {
        "id": "jnJ-6vzb-oJc"
      },
      "outputs": [],
      "source": [
        "import pandas as pd\n",
        "import numpy as np\n",
        "import cv2\n",
        "import pandas as pd\n",
        "from sklearn.model_selection import train_test_split"
      ]
    },
    {
      "cell_type": "code",
      "execution_count": 3,
      "metadata": {
        "colab": {
          "base_uri": "https://localhost:8080/"
        },
        "id": "gkHz4XLi-oJl",
        "outputId": "73a85bde-9cbc-40c7-b435-911575a6075d"
      },
      "outputs": [
        {
          "output_type": "stream",
          "name": "stdout",
          "text": [
            "Train set size: 2187\n",
            "Validation set size: 243\n",
            "Test set size: 608\n"
          ]
        }
      ],
      "source": [
        "# Read the concatenated CSV file into a dataframe\n",
        "fake_real_csv_path = \"/content/drive/MyDrive/fake_vs_real/fake_vs_real/fake_real_dataset.csv\"\n",
        "fake_real_df = pd.read_csv(fake_real_csv_path)\n",
        "\n",
        "# Define the percentage for train, test, and validation splits\n",
        "test_size = 0.2  # 20% for testing\n",
        "validation_size = 0.1  # 10% for validation\n",
        "\n",
        "# Perform the train-test split\n",
        "train_df, test_df = train_test_split(fake_real_df, test_size=test_size, random_state=42)\n",
        "\n",
        "# Perform the train-validation split\n",
        "train_df, valid_df = train_test_split(train_df, test_size=validation_size, random_state=42)\n",
        "\n",
        "# Print the lengths of the splits\n",
        "print(f\"Train set size: {len(train_df)}\")\n",
        "print(f\"Validation set size: {len(valid_df)}\")\n",
        "print(f\"Test set size: {len(test_df)}\")"
      ]
    },
    {
      "cell_type": "code",
      "execution_count": 4,
      "metadata": {
        "colab": {
          "base_uri": "https://localhost:8080/"
        },
        "id": "wPvDyJiBWoNW",
        "outputId": "f84b2c77-e6bf-4951-f8ac-697d4830e11e"
      },
      "outputs": [
        {
          "output_type": "stream",
          "name": "stdout",
          "text": [
            "path is not a valid image.\n"
          ]
        }
      ],
      "source": [
        "from PIL import Image\n",
        "import csv\n",
        "import os\n",
        "\n",
        "def is_valid_image(path):\n",
        "    try:\n",
        "        # Open the image file\n",
        "        with Image.open(path) as img:\n",
        "            # Check if the image can be loaded\n",
        "            return True\n",
        "    except (IOError, SyntaxError):\n",
        "        # If there's an error loading the image, consider it invalid\n",
        "        return False\n",
        "\n",
        "def check_image_paths(csv_file_path):\n",
        "    with open(csv_file_path, 'r') as file:\n",
        "        csv_reader = csv.reader(file)\n",
        "        for row in csv_reader:\n",
        "            if row:\n",
        "                image_path = row[0]\n",
        "                # Check if the image path is not valid\n",
        "                if not os.path.exists(image_path) or not is_valid_image(image_path):\n",
        "                    print(f\"{image_path} is not a valid image.\")\n",
        "\n",
        "# Replace 'your_file.csv' with the path to your CSV file\n",
        "csv_file_path = '/content/drive/MyDrive/fake_vs_real/fake_vs_real/fake_real_dataset.csv'\n",
        "check_image_paths(csv_file_path)\n"
      ]
    },
    {
      "cell_type": "code",
      "execution_count": 5,
      "metadata": {
        "colab": {
          "base_uri": "https://localhost:8080/"
        },
        "id": "2nZOw_nu-oJr",
        "outputId": "974aa951-5b82-4215-d1d7-4685b7813308"
      },
      "outputs": [
        {
          "output_type": "stream",
          "name": "stdout",
          "text": [
            "Train set - Real: 1228, Fake: 959\n",
            "Validation set - Real: 127, Fake: 116\n",
            "Test set - Real: 345, Fake: 263\n"
          ]
        }
      ],
      "source": [
        "# Count the number of real and fake images in each set\n",
        "def count_labels(df):\n",
        "    real_count = df[df['label'] == 'real'].shape[0]\n",
        "    fake_count = df[df['label'] == 'fake'].shape[0]\n",
        "    return real_count, fake_count\n",
        "\n",
        "# Count for train set\n",
        "train_real_count, train_fake_count = count_labels(train_df)\n",
        "print(f\"Train set - Real: {train_real_count}, Fake: {train_fake_count}\")\n",
        "\n",
        "# Count for validation set\n",
        "validation_real_count, validation_fake_count = count_labels(valid_df)\n",
        "print(f\"Validation set - Real: {validation_real_count}, Fake: {validation_fake_count}\")\n",
        "\n",
        "# Count for test set\n",
        "test_real_count, test_fake_count = count_labels(test_df)\n",
        "print(f\"Test set - Real: {test_real_count}, Fake: {test_fake_count}\")"
      ]
    },
    {
      "cell_type": "code",
      "execution_count": 6,
      "metadata": {
        "colab": {
          "base_uri": "https://localhost:8080/"
        },
        "id": "kZdD5Xoz-oJs",
        "outputId": "708ad1e1-cdb1-4323-e28f-755ac899a5c5"
      },
      "outputs": [
        {
          "output_type": "stream",
          "name": "stdout",
          "text": [
            "Train set:\n",
            "                                                   path  label\n",
            "419   /content/drive/MyDrive/fake_vs_real/fake_vs_re...      0\n",
            "1840  /content/drive/MyDrive/fake_vs_real/fake_vs_re...      0\n",
            "220   /content/drive/MyDrive/fake_vs_real/fake_vs_re...      0\n",
            "95    /content/drive/MyDrive/fake_vs_real/fake_vs_re...      0\n",
            "1622  /content/drive/MyDrive/fake_vs_real/fake_vs_re...      1\n",
            "\n",
            "Validation set:\n",
            "                                                   path  label\n",
            "2637  /content/drive/MyDrive/fake_vs_real/fake_vs_re...      1\n",
            "1141  /content/drive/MyDrive/fake_vs_real/fake_vs_re...      0\n",
            "607   /content/drive/MyDrive/fake_vs_real/fake_vs_re...      0\n",
            "1508  /content/drive/MyDrive/fake_vs_real/fake_vs_re...      1\n",
            "2160  /content/drive/MyDrive/fake_vs_real/fake_vs_re...      1\n",
            "\n",
            "Test set:\n",
            "                                                   path  label\n",
            "1721  /content/drive/MyDrive/fake_vs_real/fake_vs_re...      0\n",
            "2334  /content/drive/MyDrive/fake_vs_real/fake_vs_re...      0\n",
            "443   /content/drive/MyDrive/fake_vs_real/fake_vs_re...      1\n",
            "2332  /content/drive/MyDrive/fake_vs_real/fake_vs_re...      0\n",
            "2884  /content/drive/MyDrive/fake_vs_real/fake_vs_re...      1\n"
          ]
        }
      ],
      "source": [
        "# Define a mapping for labels\n",
        "label_mapping = {'real': 0, 'fake': 1}\n",
        "\n",
        "# Replace the 'label' column with the binary labels\n",
        "train_df['label'] = train_df['label'].map(label_mapping)\n",
        "valid_df['label'] = valid_df['label'].map(label_mapping)\n",
        "test_df['label'] = test_df['label'].map(label_mapping)\n",
        "\n",
        "# Print the first few rows to verify the changes\n",
        "print(\"Train set:\")\n",
        "print(train_df.head())\n",
        "\n",
        "print(\"\\nValidation set:\")\n",
        "print(valid_df.head())\n",
        "\n",
        "print(\"\\nTest set:\")\n",
        "print(test_df.head())\n"
      ]
    },
    {
      "cell_type": "code",
      "execution_count": 7,
      "metadata": {
        "id": "Ibj8H5tu-oJt"
      },
      "outputs": [],
      "source": [
        "image_df = []\n",
        "for image in train_df['path']:\n",
        "    img = cv2.imread(image)\n",
        "    resized = cv2.resize(img,(224,224))\n",
        "    image_df.append(resized)\n",
        "image_array = np.array(image_df)\n",
        "X_train = image_array/255\n",
        "y_train = train_df['label']"
      ]
    },
    {
      "cell_type": "code",
      "execution_count": 8,
      "metadata": {
        "id": "GhFUj2lE-oJu"
      },
      "outputs": [],
      "source": [
        "image_df = []\n",
        "for image in valid_df['path']:\n",
        "    img = cv2.imread(image)\n",
        "    resized = cv2.resize(img,(224,224))\n",
        "    image_df.append(resized)\n",
        "image_array = np.array(image_df)\n",
        "X_valid = image_array/255\n",
        "y_valid = valid_df['label']"
      ]
    },
    {
      "cell_type": "code",
      "execution_count": 9,
      "metadata": {
        "id": "8r9-ZDPP-oJv"
      },
      "outputs": [],
      "source": [
        "image_df = []\n",
        "for image in test_df['path']:\n",
        "    img = cv2.imread(image)\n",
        "    resized = cv2.resize(img,(224,224))\n",
        "    image_df.append(resized)\n",
        "image_array = np.array(image_df)\n",
        "X_test = image_array/255\n",
        "y_test = test_df['label']"
      ]
    },
    {
      "cell_type": "code",
      "execution_count": 10,
      "metadata": {
        "id": "toduC3it-oJx"
      },
      "outputs": [],
      "source": [
        "from tensorflow.keras import models, layers\n",
        "\n",
        "input_shape = (224, 224, 3)\n",
        "\n",
        "model = models.Sequential([\n",
        "    layers.Conv2D(filters=64, kernel_size=(3, 3), activation='relu', input_shape=input_shape),\n",
        "    layers.MaxPool2D((2, 2)),\n",
        "    layers.Conv2D(filters=32, kernel_size=(3, 3), activation='relu'),\n",
        "    layers.MaxPool2D((2, 2)),\n",
        "    layers.Conv2D(filters=16, kernel_size=(3, 3), activation='relu'),\n",
        "    layers.MaxPool2D((2, 2)),\n",
        "\n",
        "    layers.Flatten(),\n",
        "    layers.Dense(128, activation='relu'),\n",
        "    layers.Dense(1, activation='sigmoid')  # Using softmax for binary classification\n",
        "])"
      ]
    },
    {
      "cell_type": "code",
      "execution_count": 11,
      "metadata": {
        "id": "1hlkMbPr-oJy",
        "colab": {
          "base_uri": "https://localhost:8080/"
        },
        "outputId": "ebb0722a-5c5a-4704-a73d-2b095fe45e90"
      },
      "outputs": [
        {
          "output_type": "stream",
          "name": "stdout",
          "text": [
            "Epoch 1/25\n",
            "69/69 [==============================] - 12s 65ms/step - loss: 0.6634 - accuracy: 0.5908\n",
            "Epoch 2/25\n",
            "69/69 [==============================] - 4s 52ms/step - loss: 0.4891 - accuracy: 0.7595\n",
            "Epoch 3/25\n",
            "69/69 [==============================] - 4s 53ms/step - loss: 0.3168 - accuracy: 0.8752\n",
            "Epoch 4/25\n",
            "69/69 [==============================] - 4s 57ms/step - loss: 0.2328 - accuracy: 0.9081\n",
            "Epoch 5/25\n",
            "69/69 [==============================] - 4s 53ms/step - loss: 0.2089 - accuracy: 0.9159\n",
            "Epoch 6/25\n",
            "69/69 [==============================] - 4s 53ms/step - loss: 0.1394 - accuracy: 0.9447\n",
            "Epoch 7/25\n",
            "69/69 [==============================] - 4s 53ms/step - loss: 0.1161 - accuracy: 0.9588\n",
            "Epoch 8/25\n",
            "69/69 [==============================] - 4s 58ms/step - loss: 0.1088 - accuracy: 0.9593\n",
            "Epoch 9/25\n",
            "69/69 [==============================] - 4s 53ms/step - loss: 0.0940 - accuracy: 0.9680\n",
            "Epoch 10/25\n",
            "69/69 [==============================] - 4s 53ms/step - loss: 0.0380 - accuracy: 0.9863\n",
            "Epoch 11/25\n",
            "69/69 [==============================] - 4s 53ms/step - loss: 0.0393 - accuracy: 0.9881\n",
            "Epoch 12/25\n",
            "69/69 [==============================] - 4s 57ms/step - loss: 0.0418 - accuracy: 0.9822\n",
            "Epoch 13/25\n",
            "69/69 [==============================] - 4s 53ms/step - loss: 0.0252 - accuracy: 0.9918\n",
            "Epoch 14/25\n",
            "69/69 [==============================] - 4s 53ms/step - loss: 0.0126 - accuracy: 0.9959\n",
            "Epoch 15/25\n",
            "69/69 [==============================] - 4s 54ms/step - loss: 0.0609 - accuracy: 0.9771\n",
            "Epoch 16/25\n",
            "69/69 [==============================] - 4s 57ms/step - loss: 0.0309 - accuracy: 0.9927\n",
            "Epoch 17/25\n",
            "69/69 [==============================] - 4s 53ms/step - loss: 0.0061 - accuracy: 0.9986\n",
            "Epoch 18/25\n",
            "69/69 [==============================] - 4s 53ms/step - loss: 0.0186 - accuracy: 0.9950\n",
            "Epoch 19/25\n",
            "69/69 [==============================] - 4s 54ms/step - loss: 0.0157 - accuracy: 0.9963\n",
            "Epoch 20/25\n",
            "69/69 [==============================] - 4s 57ms/step - loss: 0.0021 - accuracy: 0.9995\n",
            "Epoch 21/25\n",
            "69/69 [==============================] - 4s 53ms/step - loss: 0.0022 - accuracy: 0.9995\n",
            "Epoch 22/25\n",
            "69/69 [==============================] - 4s 54ms/step - loss: 0.0016 - accuracy: 0.9991\n",
            "Epoch 23/25\n",
            "69/69 [==============================] - 4s 54ms/step - loss: 6.8546e-04 - accuracy: 1.0000\n",
            "Epoch 24/25\n",
            "69/69 [==============================] - 4s 57ms/step - loss: 0.0013 - accuracy: 0.9995\n",
            "Epoch 25/25\n",
            "69/69 [==============================] - 4s 55ms/step - loss: 6.2337e-04 - accuracy: 0.9995\n"
          ]
        },
        {
          "output_type": "execute_result",
          "data": {
            "text/plain": [
              "<keras.src.callbacks.History at 0x7a6ca65ebaf0>"
            ]
          },
          "metadata": {},
          "execution_count": 11
        }
      ],
      "source": [
        "history= model.compile(\n",
        "    optimizer='adam',\n",
        "    loss='binary_crossentropy',\n",
        "    metrics=['accuracy']\n",
        ")\n",
        "\n",
        "# Assuming X_train and y_train are already prepared with the new image size\n",
        "model.fit(X_train, y_train ,epochs=25)"
      ]
    },
    {
      "cell_type": "code",
      "execution_count": 12,
      "metadata": {
        "id": "mDqyf-db-oJ0",
        "colab": {
          "base_uri": "https://localhost:8080/"
        },
        "outputId": "1821b465-36ed-40ce-ebdd-e51914b6cc99"
      },
      "outputs": [
        {
          "output_type": "stream",
          "name": "stdout",
          "text": [
            "19/19 [==============================] - 1s 21ms/step - loss: 0.2559 - accuracy: 0.9490\n",
            "Test Loss: 0.2559033930301666, Test Accuracy: 0.9490131735801697\n"
          ]
        }
      ],
      "source": [
        "test_loss, test_accuracy = model.evaluate(X_test, y_test)\n",
        "print(f'Test Loss: {test_loss}, Test Accuracy: {test_accuracy}')"
      ]
    },
    {
      "cell_type": "code",
      "execution_count": 13,
      "metadata": {
        "id": "_eVF0GSh-oJ1",
        "colab": {
          "base_uri": "https://localhost:8080/"
        },
        "outputId": "c2400f7f-d720-43f8-8730-ccc41e7bfcc0"
      },
      "outputs": [
        {
          "output_type": "stream",
          "name": "stdout",
          "text": [
            "19/19 [==============================] - 1s 21ms/step\n"
          ]
        }
      ],
      "source": [
        "y_pred_probs = model.predict(X_test)\n",
        "threshold = 0.5  # You can adjust this threshold based on your preference\n",
        "\n",
        "y_pred_labels = (y_pred_probs > threshold).astype(int)\n",
        "\n",
        "# Display the predicted labels\n",
        "#print(\"Predicted Labels:\")\n",
        "#print(y_pred_labels)"
      ]
    },
    {
      "cell_type": "code",
      "execution_count": 14,
      "metadata": {
        "id": "YMM373TqS9wU",
        "colab": {
          "base_uri": "https://localhost:8080/",
          "height": 417
        },
        "outputId": "2718c439-8287-4ef6-95d0-dc9202d19f8e"
      },
      "outputs": [
        {
          "output_type": "display_data",
          "data": {
            "text/plain": [
              "<Figure size 400x400 with 2 Axes>"
            ],
            "image/png": "[encoded data removed]"
          },
          "metadata": {}
        }
      ],
      "source": [
        "import matplotlib.pyplot as plt\n",
        "import seaborn as sn\n",
        "from sklearn.metrics import confusion_matrix\n",
        "\n",
        "# Assuming y_true and y_pred_labels are your true and predicted labels\n",
        "cm = confusion_matrix(y_test, y_pred_labels)\n",
        "\n",
        "# Compute percentages from counts\n",
        "cm_percentages = cm / cm.sum(axis=1)[:, np.newaxis]\n",
        "\n",
        "plt.figure(figsize=(4, 4), facecolor='pink', edgecolor='brown')\n",
        "sn.heatmap(cm_percentages, annot=True, fmt=\".2f\", cmap=\"Blues\")\n",
        "\n",
        "plt.xlabel('Prediction', fontdict={'family': 'fantasy', 'color': 'black', 'size': 15})\n",
        "plt.ylabel('Truth', fontdict={'family': 'fantasy', 'color': 'black', 'size': 15})\n",
        "plt.title('Confusion Matrix', fontdict={'family': 'fantasy', 'color': 'red', 'size': 20})\n",
        "\n",
        "plt.show()\n"
      ]
    },
    {
      "cell_type": "code",
      "execution_count": 15,
      "metadata": {
        "id": "BNUnPlKiTl5F",
        "colab": {
          "base_uri": "https://localhost:8080/"
        },
        "outputId": "bf030175-51bd-49fb-ec5a-0928ba50505a"
      },
      "outputs": [
        {
          "output_type": "stream",
          "name": "stdout",
          "text": [
            "Classification Report     : \n",
            "\n",
            "\n",
            "               precision    recall  f1-score   support\n",
            "\n",
            "           0       0.94      0.97      0.96       345\n",
            "           1       0.96      0.92      0.94       263\n",
            "\n",
            "    accuracy                           0.95       608\n",
            "   macro avg       0.95      0.95      0.95       608\n",
            "weighted avg       0.95      0.95      0.95       608\n",
            "\n"
          ]
        }
      ],
      "source": [
        "from sklearn.metrics import classification_report\n",
        "\n",
        "print('Classification Report     : \\n\\n\\n' , classification_report(y_test,y_pred_labels))"
      ]
    },
    {
      "cell_type": "code",
      "execution_count": 16,
      "metadata": {
        "id": "PKuZ6xXN-oJ4",
        "colab": {
          "base_uri": "https://localhost:8080/"
        },
        "outputId": "ff634c87-32e1-479c-d873-8a67569c6201"
      },
      "outputs": [
        {
          "output_type": "stream",
          "name": "stderr",
          "text": [
            "/usr/local/lib/python3.10/dist-packages/keras/src/engine/training.py:3103: UserWarning: You are saving your model as an HDF5 file via `model.save()`. This file format is considered legacy. We recommend using instead the native Keras format, e.g. `model.save('my_model.keras')`.\n",
            "  saving_api.save_model(\n"
          ]
        }
      ],
      "source": [
        "model.save(\"cnn.h5\")"
      ]
    },
    {
      "cell_type": "code",
      "execution_count": 17,
      "metadata": {
        "id": "jVbU-szURyVm"
      },
      "outputs": [],
      "source": [
        "model.save(\"/content/drive/MyDrive/fake_vs_real/cnn.h5\")"
      ]
    }
  ],
  "metadata": {
    "accelerator": "GPU",
    "colab": {
      "provenance": []
    },
    "kernelspec": {
      "display_name": "Python 3",
      "name": "python3"
    },
    "language_info": {
      "codemirror_mode": {
        "name": "ipython",
        "version": 3
      },
      "file_extension": ".py",
      "mimetype": "text/x-python",
      "name": "python",
      "nbconvert_exporter": "python",
      "pygments_lexer": "ipython3",
      "version": "3.8.0"
    }
  },
  "nbformat": 4,
  "nbformat_minor": 0
}